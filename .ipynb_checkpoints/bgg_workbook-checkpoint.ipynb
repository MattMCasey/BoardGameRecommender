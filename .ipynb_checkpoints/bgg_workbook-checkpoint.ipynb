{
 "cells": [
  {
   "cell_type": "code",
   "execution_count": 2,
   "metadata": {
    "collapsed": true
   },
   "outputs": [],
   "source": [
    "from pymongo import MongoClient\n",
    "import pprint\n",
    "import requests\n",
    "import time\n",
    "from bs4 import BeautifulSoup\n",
    "\n",
    "import boardgamegeek as bgg\n",
    "import time\n",
    "from collections import Counter, defaultdict\n",
    "# Access/Initiate Database\n",
    "# Access/Initiate Table\n"
   ]
  },
  {
   "cell_type": "markdown",
   "metadata": {},
   "source": [
    "# MONGO DATABASE\n",
    "\n",
    "Storage scheme: user_ID (main key) game_ID: rating, comment. (Sub_dict)"
   ]
  },
  {
   "cell_type": "code",
   "execution_count": 169,
   "metadata": {
    "collapsed": true
   },
   "outputs": [],
   "source": [
    "client = MongoClient()\n",
    "db = client['bgg']\n",
    "#table of ratings\n",
    "ratings = db['game_ratings']\n",
    "#table for game meta data\n",
    "meta = db['game_meta']"
   ]
  },
  {
   "cell_type": "code",
   "execution_count": 2,
   "metadata": {
    "collapsed": true
   },
   "outputs": [],
   "source": [
    "top100 = requests.get('https://boardgamegeek.com/search/boardgame/page/1?sort=numvoters&advsearch=1&q=&include%5Bdesignerid%5D=&include%5Bpublisherid%5D=&geekitemname=&range%5Byearpublished%5D%5Bmin%5D=&range%5Byearpublished%5D%5Bmax%5D=&range%5Bminage%5D%5Bmax%5D=&range%5Bnumvoters%5D%5Bmin%5D=&range%5Bnumweights%5D%5Bmin%5D=&range%5Bminplayers%5D%5Bmax%5D=&range%5Bmaxplayers%5D%5Bmin%5D=&range%5Bleastplaytime%5D%5Bmin%5D=&range%5Bplaytime%5D%5Bmax%5D=&floatrange%5Bavgrating%5D%5Bmin%5D=&floatrange%5Bavgrating%5D%5Bmax%5D=&floatrange%5Bavgweight%5D%5Bmin%5D=&floatrange%5Bavgweight%5D%5Bmax%5D=&colfiltertype=&searchuser=&playerrangetype=normal&B1=Submit&sortdir=desc')\n",
    "top1002 = BeautifulSoup(top100.content, 'html.parser')\n"
   ]
  },
  {
   "cell_type": "code",
   "execution_count": 32,
   "metadata": {
    "collapsed": true
   },
   "outputs": [],
   "source": [
    "gamedict = {}\n",
    "#gamelist = str(top1002).split('<td class=\"collection_thumbnail\">')\n",
    "# tpp = top1002.select()\n",
    "#gamelist.content\n",
    "# type(top1002)"
   ]
  },
  {
   "cell_type": "markdown",
   "metadata": {},
   "source": [
    "### Loop to grab board game id numbers. Stored later in CSVs."
   ]
  },
  {
   "cell_type": "code",
   "execution_count": 33,
   "metadata": {
    "collapsed": true
   },
   "outputs": [],
   "source": [
    "for i in range(31,41):\n",
    "    grab = requests.get('https://boardgamegeek.com/search/boardgame/page/'+str(i)+'?sort=numvoters&advsearch=1&q=&include%5Bdesignerid%5D=&include%5Bpublisherid%5D=&geekitemname=&range%5Byearpublished%5D%5Bmin%5D=&range%5Byearpublished%5D%5Bmax%5D=&range%5Bminage%5D%5Bmax%5D=&range%5Bnumvoters%5D%5Bmin%5D=&range%5Bnumweights%5D%5Bmin%5D=&range%5Bminplayers%5D%5Bmax%5D=&range%5Bmaxplayers%5D%5Bmin%5D=&range%5Bleastplaytime%5D%5Bmin%5D=&range%5Bplaytime%5D%5Bmax%5D=&floatrange%5Bavgrating%5D%5Bmin%5D=&floatrange%5Bavgrating%5D%5Bmax%5D=&floatrange%5Bavgweight%5D%5Bmin%5D=&floatrange%5Bavgweight%5D%5Bmax%5D=&colfiltertype=&searchuser=Ruinousworks&nosubtypes%5B0%5D=boardgameexpansion&playerrangetype=normal&B1=Submit&sortdir=desc')\n",
    "    clean = BeautifulSoup(grab.content, 'html.parser')\n",
    "    split = str(clean).split('<td class=\"collection_thumbnail\">')\n",
    "    for j in range(1,101):\n",
    "        dummy = split[j][21:]\n",
    "        out1 = dummy.index('/')\n",
    "        out2 = dummy.index('\"')\n",
    "        num = dummy[:out1]\n",
    "        name = dummy[out1+1:out2]\n",
    "        #print(num, name)\n",
    "        gamedict[num] = name\n",
    "    time.sleep(2)"
   ]
  },
  {
   "cell_type": "code",
   "execution_count": 74,
   "metadata": {
    "collapsed": true
   },
   "outputs": [],
   "source": [
    "gm1 = requests.get('http://boardgamegeek.com/xmlapi2/boardgame/161970?stats=1')"
   ]
  },
  {
   "cell_type": "code",
   "execution_count": 60,
   "metadata": {},
   "outputs": [
    {
     "ename": "SyntaxError",
     "evalue": "invalid syntax (<ipython-input-60-08c96401de28>, line 1)",
     "output_type": "error",
     "traceback": [
      "\u001b[0;36m  File \u001b[0;32m\"<ipython-input-60-08c96401de28>\"\u001b[0;36m, line \u001b[0;32m1\u001b[0m\n\u001b[0;31m    gm1 74522\u001b[0m\n\u001b[0m            ^\u001b[0m\n\u001b[0;31mSyntaxError\u001b[0m\u001b[0;31m:\u001b[0m invalid syntax\n"
     ]
    }
   ],
   "source": [
    "gm1 74522"
   ]
  },
  {
   "cell_type": "code",
   "execution_count": 75,
   "metadata": {},
   "outputs": [
    {
     "name": "stdout",
     "output_type": "stream",
     "text": [
      "b'<html>\\r\\n<head><title>404 Not Found</title></head>\\r\\n<body bgcolor=\"white\">\\r\\n<center><h1>404 Not Found</h1></center>\\r\\n<hr><center>'\n",
      "b'nginx/1.12.1</center>\\r\\n</body>\\r\\n</html>\\r\\n'\n"
     ]
    }
   ],
   "source": [
    "for line in gm1:\n",
    "    print(line)"
   ]
  },
  {
   "cell_type": "code",
   "execution_count": 1,
   "metadata": {},
   "outputs": [
    {
     "ename": "NameError",
     "evalue": "name 'split' is not defined",
     "output_type": "error",
     "traceback": [
      "\u001b[0;31m---------------------------------------------------------------------------\u001b[0m",
      "\u001b[0;31mNameError\u001b[0m                                 Traceback (most recent call last)",
      "\u001b[0;32m<ipython-input-1-dccb357f62c0>\u001b[0m in \u001b[0;36m<module>\u001b[0;34m()\u001b[0m\n\u001b[0;32m----> 1\u001b[0;31m \u001b[0msplit\u001b[0m\u001b[0;34m\u001b[0m\u001b[0m\n\u001b[0m",
      "\u001b[0;31mNameError\u001b[0m: name 'split' is not defined"
     ]
    }
   ],
   "source": [
    "split"
   ]
  },
  {
   "cell_type": "code",
   "execution_count": 29,
   "metadata": {},
   "outputs": [
    {
     "data": {
      "text/plain": [
       "'it-happens'"
      ]
     },
     "execution_count": 29,
     "metadata": {},
     "output_type": "execute_result"
    }
   ],
   "source": [
    "listed[1][1]"
   ]
  },
  {
   "cell_type": "markdown",
   "metadata": {},
   "source": [
    "The following two loops converted the gamedict into a list and then encoded said list into a CSV.\n",
    "\n",
    "For reasons I don't understand, the second loop stopped short every time I ran it, which is why I converted it to an i loop."
   ]
  },
  {
   "cell_type": "code",
   "execution_count": 34,
   "metadata": {
    "collapsed": true
   },
   "outputs": [],
   "source": [
    "listed = []\n",
    "for k in gamedict:\n",
    "    #print(gamedict[k])\n",
    "    listed.append([k, gamedict[k]])"
   ]
  },
  {
   "cell_type": "code",
   "execution_count": 39,
   "metadata": {
    "collapsed": true
   },
   "outputs": [],
   "source": [
    "# #listed = []\n",
    "# f = open('bgg_top_3001-4000.csv', 'a') \n",
    "# for i in range(761,1000):\n",
    "#     f.write(listed[i][0]+','+listed[i][1]+'\\n')\n",
    "#     #listed.append([k, v])\n",
    "# # as csv_file:\n",
    "# #     writer = csv.writer(csv_file)\n",
    "# #     for key, value in mydict.items():\n",
    "# #        writer.writerow([key, value])"
   ]
  },
  {
   "cell_type": "code",
   "execution_count": 36,
   "metadata": {},
   "outputs": [
    {
     "data": {
      "text/plain": [
       "['62', 'curse-mummys-tomb']"
      ]
     },
     "execution_count": 36,
     "metadata": {},
     "output_type": "execute_result"
    }
   ],
   "source": [
    "listed[999]"
   ]
  },
  {
   "cell_type": "code",
   "execution_count": 245,
   "metadata": {},
   "outputs": [],
   "source": [
    "_0 = requests.get('https://www.boardgamegeek.com/xmlapi2/thing?id='+str(62)+'&ratingcomments=1&pagesize=100&page=1')\n",
    "_0_ = BeautifulSoup(_0.content, 'html.parser')"
   ]
  },
  {
   "cell_type": "code",
   "execution_count": 246,
   "metadata": {
    "scrolled": true
   },
   "outputs": [
    {
     "data": {
      "text/plain": [
       "<bound method Tag.select of <?xml version=\"1.0\" encoding=\"utf-8\"?><items termsofuse=\"http://boardgamegeek.com/xmlapi/termsofuse\"><item id=\"62\" type=\"boardgame\">\n",
       "<thumbnail>https://cf.geekdo-images.com/images/pic146706_t.jpg</thumbnail>\n",
       "<image>https://cf.geekdo-images.com/images/pic146706.jpg</image>\n",
       "<name sortindex=\"1\" type=\"primary\" value=\"Curse of the Mummy's Tomb\"></name>\n",
       "<name sortindex=\"1\" type=\"alternate\" value=\"Przeklenstwo Mumii\"></name>\n",
       "<description>Players are a group of explorers in a pyramid attempting to learn forbidden knowledge and find treasure.&amp;#10;&amp;#10;However the pyramid has many traps and tricks, and lurking about is the Mummy who will not rest until all are dead.  Comes with a 3D three level gameboard that players have to ascend and metal miniatures.&amp;#10;&amp;#10;Expanded by&amp;#10;Curse of the Mummy's Tomb: In Search of Eternity&amp;#10;&amp;#10;&amp;#10;Flavour text from the box:&amp;#10;&amp;#10;&amp;quot;When the moon conjoins with the planet of the God Anubis, the elixir of eternal life will flow.  Whoever partakes of the sacred waters shall stay youthful for one hundred years.  Immortality is the reward for he who overcomes the dead that walk.&amp;quot;&amp;#10;&amp;#10;</description>\n",
       "<yearpublished value=\"1988\"></yearpublished>\n",
       "<minplayers value=\"1\"></minplayers>\n",
       "<maxplayers value=\"4\"></maxplayers>\n",
       "<poll name=\"suggested_numplayers\" title=\"User Suggested Number of Players\" totalvotes=\"1\">\n",
       "<results numplayers=\"1\">\n",
       "<result numvotes=\"0\" value=\"Best\"></result>\n",
       "<result numvotes=\"0\" value=\"Recommended\"></result>\n",
       "<result numvotes=\"1\" value=\"Not Recommended\"></result>\n",
       "</results>\n",
       "<results numplayers=\"2\">\n",
       "<result numvotes=\"0\" value=\"Best\"></result>\n",
       "<result numvotes=\"0\" value=\"Recommended\"></result>\n",
       "<result numvotes=\"1\" value=\"Not Recommended\"></result>\n",
       "</results>\n",
       "<results numplayers=\"3\">\n",
       "<result numvotes=\"1\" value=\"Best\"></result>\n",
       "<result numvotes=\"0\" value=\"Recommended\"></result>\n",
       "<result numvotes=\"0\" value=\"Not Recommended\"></result>\n",
       "</results>\n",
       "<results numplayers=\"4\">\n",
       "<result numvotes=\"1\" value=\"Best\"></result>\n",
       "<result numvotes=\"0\" value=\"Recommended\"></result>\n",
       "<result numvotes=\"0\" value=\"Not Recommended\"></result>\n",
       "</results>\n",
       "<results numplayers=\"4+\">\n",
       "<result numvotes=\"0\" value=\"Best\"></result>\n",
       "<result numvotes=\"0\" value=\"Recommended\"></result>\n",
       "<result numvotes=\"1\" value=\"Not Recommended\"></result>\n",
       "</results>\n",
       "</poll>\n",
       "<playingtime value=\"120\"></playingtime>\n",
       "<minplaytime value=\"120\"></minplaytime>\n",
       "<maxplaytime value=\"120\"></maxplaytime>\n",
       "<minage value=\"12\"></minage>\n",
       "<poll name=\"suggested_playerage\" title=\"User Suggested Player Age\" totalvotes=\"0\">\n",
       "</poll>\n",
       "<poll name=\"language_dependence\" title=\"Language Dependence\" totalvotes=\"0\">\n",
       "<results>\n",
       "<result level=\"1\" numvotes=\"0\" value=\"No necessary in-game text\"></result>\n",
       "<result level=\"2\" numvotes=\"0\" value=\"Some necessary text - easily memorized or small crib sheet\"></result>\n",
       "<result level=\"3\" numvotes=\"0\" value=\"Moderate in-game text - needs crib sheet or paste ups\"></result>\n",
       "<result level=\"4\" numvotes=\"0\" value=\"Extensive use of text - massive conversion needed to be playable\"></result>\n",
       "<result level=\"5\" numvotes=\"0\" value=\"Unplayable in another language\"></result>\n",
       "</results>\n",
       "</poll>\n",
       "<link id=\"1022\" type=\"boardgamecategory\" value=\"Adventure\"/>\n",
       "<link id=\"1050\" type=\"boardgamecategory\" value=\"Ancient\"/>\n",
       "<link id=\"1024\" type=\"boardgamecategory\" value=\"Horror\"/>\n",
       "<link id=\"2689\" type=\"boardgamemechanic\" value=\"Action / Movement Programming\"/>\n",
       "<link id=\"5607\" type=\"boardgamefamily\" value=\"3D Games\"/>\n",
       "<link id=\"6471\" type=\"boardgamefamily\" value=\"Country: Egypt\"/>\n",
       "<link id=\"165833\" type=\"boardgameexpansion\" value=\"Curse of the Mummy's Tomb: In Search of Eternity\"/>\n",
       "<link id=\"51\" type=\"boardgamedesigner\" value=\"Stephen Hand\"/>\n",
       "<link id=\"9163\" type=\"boardgameartist\" value=\"Dave Andrews\"/>\n",
       "<link id=\"979\" type=\"boardgameartist\" value=\"Gary Chalk\"/>\n",
       "<link id=\"9170\" type=\"boardgameartist\" value=\"Trish Morrison\"/>\n",
       "<link id=\"9379\" type=\"boardgameartist\" value=\"Aly Morrison\"/>\n",
       "<link id=\"15479\" type=\"boardgameartist\" value=\"James Warhola\"/>\n",
       "<link id=\"26\" type=\"boardgamepublisher\" value=\"Games Workshop Ltd.\"/>\n",
       "<link id=\"3805\" type=\"boardgamepublisher\" value=\"Sfera\"/>\n",
       "<comments page=\"1\" totalitems=\"300\">\n",
       "<comment rating=\"9\" username=\"Bogge354\" value=\"\"></comment>\n",
       "<comment rating=\"9\" username=\"jasl3\" value=\"\"></comment>\n",
       "<comment rating=\"9\" username=\"lugiber\" value=\"\"></comment>\n",
       "<comment rating=\"8\" username=\"ChrBou2001\" value=\"\"></comment>\n",
       "<comment rating=\"8\" username=\"swellegant\" value=\"\"></comment>\n",
       "<comment rating=\"8\" username=\"Peter Pariseau\" value=\"\"></comment>\n",
       "<comment rating=\"8\" username=\"Guartrainer\" value=\"\"></comment>\n",
       "<comment rating=\"8\" username=\"taffyslim\" value=\"i really like this its good\"></comment>\n",
       "<comment rating=\"8\" username=\"Furunkulus\" value=\"I love these old GW board games. This one is pure chaos and is all about who you play with.\"></comment>\n",
       "<comment rating=\"8\" username=\"fraludico\" value=\"Only played with solo rules, some house rules necessary for end game.\n",
       "I like theme and components.\"></comment>\n",
       "<comment rating=\"8\" username=\"statman8\" value=\"\"></comment>\n",
       "<comment rating=\"8\" username=\"wolfisin\" value=\"This game holds a sentimental spot fro being one of the few strange games I started with. GW really knew how to make em\"></comment>\n",
       "<comment rating=\"8\" username=\"JediDragon\" value=\"\"></comment>\n",
       "<comment rating=\"8\" username=\"jueja\" value=\"\"></comment>\n",
       "<comment rating=\"8\" username=\"Mensch\" value=\"A great game produced by GW, it comes with 5 lead Figures, the rules take some time to read over (30 minutes) experienced players can rip a game off in about a hour and a half, newbies may take longer but worth the effort! If you managed to collect some White Dwarfs GW made some additional characters and Traps/Monsters/Treasure cards (I forgot which issues). For a 22 Dollar investment (then) it has replayablity and makes for an enjoyable evening with the friends. I even managed to get the wife interested in this one, but with some people they take it personally when you wack their character with a nasty monster or trap. A must for all those players interested in old GW Board Games\"></comment>\n",
       "<comment rating=\"7.75\" username=\"maddwizard\" value=\"\"></comment>\n",
       "<comment rating=\"7.5\" username=\"audpopdeb\" value=\"\"></comment>\n",
       "<comment rating=\"7\" username=\"Nogbad\" value=\"\"></comment>\n",
       "<comment rating=\"7\" username=\"magnumopus\" value=\"\"></comment>\n",
       "<comment rating=\"7\" username=\"magnumopus\" value=\"\"></comment>\n",
       "<comment rating=\"7\" username=\"Grohmann\" value=\"\"></comment>\n",
       "<comment rating=\"7\" username=\"Kihon\" value=\"A bit of fun with minis I painted so that adds to my enjoyment of it. It's probably flawed but for a quick time passer it does me {better than watching Emmeradale!!! UK joke :-)}\"></comment>\n",
       "<comment rating=\"7\" username=\"Sr. Ulé\" value=\"\"></comment>\n",
       "<comment rating=\"7\" username=\"aplegat2\" value=\"\"></comment>\n",
       "<comment rating=\"7\" username=\"Butthead\" value=\"\"></comment>\n",
       "<comment rating=\"7\" username=\"berly24\" value=\"\"></comment>\n",
       "<comment rating=\"7\" username=\"PzVIE\" value=\"I really liked this game! Back in the days when we played Talisman every weekend!\"></comment>\n",
       "<comment rating=\"7\" username=\"Adrahil\" value=\"\"></comment>\n",
       "<comment rating=\"7\" username=\"John McKevitt\" value=\"Nice metal figures\"></comment>\n",
       "<comment rating=\"7\" username=\"Altenbochumer\" value=\"\"></comment>\n",
       "<comment rating=\"7\" username=\"Wolperdinger\" value=\"Alway good for a funny event.\"></comment>\n",
       "<comment rating=\"7\" username=\"artfuldodge2\" value=\"Simple fun with wonderful components.  Part of the rating is nostalgia, part is an appreciation for good, cheesy fun. \"></comment>\n",
       "<comment rating=\"7\" username=\"JrDad\" value=\"\"></comment>\n",
       "<comment rating=\"7\" username=\"randall\" value=\"A classic GW game. As with a lot of their games, the game itself is not the best, but it makes up in atmosphere and cool bits. Great for the right group.\"></comment>\n",
       "<comment rating=\"7\" username=\"Gylas\" value=\"\"></comment>\n",
       "<comment rating=\"7\" username=\"bumbispooky\" value=\"\"></comment>\n",
       "<comment rating=\"7\" username=\"MercuryKev\" value=\"Egyptologists travel through a pyramid in an Indiana-Jones kind of way to try and find the Mummy's treasure. Unusual 3D board.\"></comment>\n",
       "<comment rating=\"7\" username=\"bobby_5150\" value=\"\"></comment>\n",
       "<comment rating=\"7\" username=\"crackedlcd81\" value=\"Sorry- no content provided.\"></comment>\n",
       "<comment rating=\"7\" username=\"Speedwaysupporter\" value=\"\"></comment>\n",
       "<comment rating=\"7\" username=\"SaintsnSoldiers\" value=\"This is a pretty fun game, dont know if its on the remake list by flights of fantasy, anyways lts trade.\"></comment>\n",
       "<comment rating=\"7\" username=\"dragonewtking\" value=\"This game has great theme, but is hampered by its movement system (although thematically, it does a good job of simulating being lost in the maze of the pyramid..); games can run long.\"></comment>\n",
       "<comment rating=\"7\" username=\"sarafettle\" value=\"\"></comment>\n",
       "<comment rating=\"7\" username=\"Bryan Arroyo\" value=\"\"></comment>\n",
       "<comment rating=\"7\" username=\"sic!\" value=\"Hm, difficult to rate. Its nice made, miniatures, 3D gameboard, tasliman flair and some new rules in gameplay, but its also difficult to play without nearly killing each other. But with the right set of players its fun.\"></comment>\n",
       "<comment rating=\"7\" username=\"the czar\" value=\"not the best game games workshop put out, but it still is cooler than most games put out today.3-D boards are always cool, plus you get to move other players characters, and they hate that!\"></comment>\n",
       "<comment rating=\"7\" username=\"gamey\" value=\"Great atmosphere and bits: mummy, cards, 3-D pyramid are cool! Complicated to play, and endings sometimes drawn out. Have played only rarely, and usually with just 2.\"></comment>\n",
       "<comment rating=\"7\" username=\"Hopalong\" value=\"Classic GW game that is a kind of 3-D Talisman.\"></comment>\n",
       "<comment rating=\"7\" username=\"scoopblue\" value=\"\"></comment>\n",
       "<comment rating=\"7\" username=\"Rodnarok\" value=\"\"></comment>\n",
       "<comment rating=\"7\" username=\"liampurcell\" value=\"\"></comment>\n",
       "<comment rating=\"7\" username=\"Grayhawk\" value=\"Lots of fun, once you understand the rules.  The rules are written obtusely, but teh game itself is a hoot.\"></comment>\n",
       "<comment rating=\"6.75\" username=\"StephenAvery\" value=\"\"></comment>\n",
       "<comment rating=\"6.75\" username=\"mi_de\" value=\"This about finishes my Games Workshop collection.  Have played solo a couple times, and multi-player a couple of times.  Not an award-winner by any means, but colorful and entertaining in a silly kind of way.  Needs to be played quickly with either eerie or exciting music in the background, and an imposing voice to read the encounter descriptions.  Great to bring out for new players; the 3D pyramid is pretty cool, and the hieroglyphics on the support tower really are funny to loook at!  Nice to have in the collection.\"></comment>\n",
       "<comment rating=\"6.5\" username=\"Lebut\" value=\"\"></comment>\n",
       "<comment rating=\"6.5\" username=\"valdgir\" value=\"\"></comment>\n",
       "<comment rating=\"6.5\" username=\"Prionus\" value=\"\"></comment>\n",
       "<comment rating=\"6.5\" username=\"JVKhoury\" value=\"\"></comment>\n",
       "<comment rating=\"6.5\" username=\"Rattone\" value=\"\"></comment>\n",
       "<comment rating=\"6.5\" username=\"BWSharp\" value=\"\"></comment>\n",
       "<comment rating=\"6.1\" username=\"Turo8\" value=\"\"></comment>\n",
       "<comment rating=\"6\" username=\"Condompete\" value=\"\"></comment>\n",
       "<comment rating=\"6\" username=\"davrodbois\" value=\"\"></comment>\n",
       "<comment rating=\"6\" username=\"Siirozze074\" value=\"\"></comment>\n",
       "<comment rating=\"6\" username=\"drstrnge\" value=\"\"></comment>\n",
       "<comment rating=\"6\" username=\"andyafricanus\" value=\"Always feel this needs the claustrophobia feel to enhance the vibe. The game was on the back of the successful Fury of Dracula game released by GW and Stephen Hand.. The third game earmarked was by other GW staff and was to be a Frankenstein theme where you collect body parts.  There was one game where the paranoia of the Mummy chasing me gave it a bit of tense and excitement but otherwise it's just a collectors item to me.\"></comment>\n",
       "<comment rating=\"6\" username=\"Ronno\" value=\"\"></comment>\n",
       "<comment rating=\"6\" username=\"shirtman\" value=\"Strategic use of your cards to either screw your opponent's plans or keep them for your own use is a key tactic for winning the game. Great theme and nice components for a lighter racing style game. \"></comment>\n",
       "<comment rating=\"6\" username=\"Danceny\" value=\"\"></comment>\n",
       "<comment rating=\"6\" username=\"Radetzkymarsch\" value=\"\"></comment>\n",
       "<comment rating=\"6\" username=\"Gotcha\" value=\"\"></comment>\n",
       "<comment rating=\"6\" username=\"intomieli\" value=\"\"></comment>\n",
       "<comment rating=\"6\" username=\"alek2\" value=\"it captures theme of exploring piramide full of traps and treasures quite nicely\"></comment>\n",
       "<comment rating=\"6\" username=\"eldamahj\" value=\"\"></comment>\n",
       "<comment rating=\"6\" username=\"MadJackMcD\" value=\"\"></comment>\n",
       "<comment rating=\"6\" username=\"HaiKulture\" value=\"\"></comment>\n",
       "<comment rating=\"6\" username=\"n_and\" value=\"\"></comment>\n",
       "<comment rating=\"6\" username=\"SteveMcG\" value=\"\"></comment>\n",
       "<comment rating=\"6\" username=\"lordshoju\" value=\"\"></comment>\n",
       "<comment rating=\"6\" username=\"szpieg\" value=\"\"></comment>\n",
       "<comment rating=\"6\" username=\"streaky2007\" value=\"\"></comment>\n",
       "<comment rating=\"6\" username=\"dentarek\" value=\"\"></comment>\n",
       "<comment rating=\"6\" username=\"Xadocs\" value=\"\"></comment>\n",
       "<comment rating=\"6\" username=\"rogerthecabinboy\" value=\"\"></comment>\n",
       "<comment rating=\"6\" username=\"kober\" value=\"\"></comment>\n",
       "<comment rating=\"6\" username=\"mrleechyboy\" value=\"\"></comment>\n",
       "<comment rating=\"6\" username=\"gocho7\" value=\"\"></comment>\n",
       "<comment rating=\"6\" username=\"landru\" value=\"What you would expect from Stephen Jackson of Games Workshop from the period. Still play it once in awhile. Like the components and the 3-D board.\"></comment>\n",
       "<comment rating=\"6\" username=\"Cabbage\" value=\"\"></comment>\n",
       "<comment rating=\"6\" username=\"alzhiel\" value=\"v\"></comment>\n",
       "<comment rating=\"6\" username=\"syphramis\" value=\"\"></comment>\n",
       "<comment rating=\"6\" username=\"RossBowrage\" value=\"\"></comment>\n",
       "<comment rating=\"6\" username=\"Chromaline\" value=\"\"></comment>\n",
       "<comment rating=\"6\" username=\"GuppyGamer\" value=\"\"></comment>\n",
       "<comment rating=\"6\" username=\"olric\" value=\"\"></comment>\n",
       "<comment rating=\"6\" username=\"popotam\" value=\"\"></comment>\n",
       "<comment rating=\"6\" username=\"Tonyfr\" value=\"\"></comment>\n",
       "<comment rating=\"6\" username=\"Angra\" value=\"A nice game that may become extremely noious if played with sniveller-type gamers. If played with the right company is nice. Better if 3 or 4 players.\"></comment>\n",
       "<comment rating=\"6\" username=\"duvalmont\" value=\"Owned it and played back in 90's\"></comment>\n",
       "<comment rating=\"6\" username=\"GameDude\" value=\"\"></comment>\n",
       "</comments>\n",
       "</item>\n",
       "</items>>"
      ]
     },
     "execution_count": 246,
     "metadata": {},
     "output_type": "execute_result"
    }
   ],
   "source": [
    "_0_.select"
   ]
  },
  {
   "cell_type": "code",
   "execution_count": 10,
   "metadata": {},
   "outputs": [],
   "source": [
    "ratings_raw = str(_0_).split('rating=\"')"
   ]
  },
  {
   "cell_type": "markdown",
   "metadata": {},
   "source": [
    "What we need here\n",
    "    \n",
    "    -- Top level function that iterates through game list\n",
    "    \n",
    "    -- Manager function that handles each game \n",
    "    \n",
    "    -- Task functions that handle eacn of the following\n",
    "            -- Grabbing the URL\n",
    "            -- Grabbing the meta data\n",
    "            -- Grabbing the ratings \n",
    "            -- Dumping everyting into MongoDB\n",
    "            \n",
    "    -- Mongo DB database to store all the data\n",
    "            -- How to store? Options:\n",
    "                    -- {userid: {gameid: gamerating, comment}}\n",
    "                        (userID as outer layer, each game stored as dict)\n",
    "                    --{gameid: {userid:rating, comment}}\n",
    "                        (gameID as outer later, each user stored as dict)"
   ]
  },
  {
   "cell_type": "code",
   "execution_count": 220,
   "metadata": {
    "collapsed": true
   },
   "outputs": [],
   "source": [
    "def get_meta(page, game_id):\n",
    "    print('get_meta')\n",
    "    \n",
    "    description = str(page.select('description')[0])[13:-14]\n",
    "    min_players = str(page.select('minplayers'))[20:-16]\n",
    "    max_players = str(page.select('maxplayers'))[20:-16]\n",
    "    min_play_time = str(page.select('minplaytime'))[21:-17]\n",
    "    max_play_time = str(page.select('maxplaytime'))[21:-17]\n",
    "    year_published = str(page.select('yearpublished'))[23:-19]\n",
    "    #this block gets us the static meta that we'll save\n",
    "    \n",
    "    page_text = str(page)\n",
    "    #used for all loops that require a text split\n",
    "    \n",
    "    categories = []\n",
    "    categories_raw = page_text.split('\"boardgamecategory\" value=\"')\n",
    "    for i in range(1, len(categories_raw)):\n",
    "        nd = categories_raw[i].index('\"')\n",
    "        categories.append(categories_raw[i][0:nd])\n",
    "    \n",
    "    mechanics = []\n",
    "    mechanics_raw = page_text.split('\"boardgamemechanic\" value=\"')\n",
    "    for i in range(1, len(mechanics_raw)):\n",
    "        nd = mechanics_raw[i].index('\"')\n",
    "        mechanics.append(mechanics_raw[i][0:nd])\n",
    "    #these two blocks get us categories & mechanics. A game can have > 1.\n",
    "    \n",
    "    game_name = page_text.split('<name sortindex=\"1\" type=\"primary\" value=\"')\n",
    "    nd = game_name[1].index('\"')\n",
    "    game_name = game_name[1][:nd]\n",
    "    \n",
    "    \n",
    "    update = {'game_id': game_id,\n",
    "              'game_name' : game_name,\n",
    "              'description' : description,\n",
    "              'min_players': min_players,\n",
    "              'max_players' : max_players,\n",
    "              'min_play_time' : min_play_time,\n",
    "              'max_play_time' : max_play_time,\n",
    "              'year_published' : year_published,\n",
    "              'mechanics' : mechanics,\n",
    "              'categories' : categories\n",
    "             }\n",
    "    \n",
    "    if 'boardgameimplementation' in page_text:\n",
    "        implementation_raw = page_text.split('boardgameimplementation\" value=\"')\n",
    "        nd = implementation_raw[1].index('\"')\n",
    "        implementation = implementation_raw[1][0:nd]\n",
    "        update['implementation'] = implementation\n",
    "    \n",
    "\n",
    "    \n",
    "    meta.insert_one(update)\n",
    "    #inserts record into mongo database\n",
    "    \n",
    "#    return update\n",
    "    "
   ]
  },
  {
   "cell_type": "code",
   "execution_count": 242,
   "metadata": {},
   "outputs": [],
   "source": [
    "def get_ratings(page, game_id):\n",
    "    print('get_ratings')\n",
    "    raw = str(page).split('rating=\"')\n",
    "    top = len(raw)\n",
    "    \n",
    "    print('top:', top)\n",
    "    \n",
    "    if top == 1:\n",
    "        return False\n",
    "    \n",
    "    for i in range(1, top):\n",
    "        #print(i)\n",
    "        chopped = raw[i].split('\"')\n",
    "        rating = chopped[0]\n",
    "        user_id = chopped[2]\n",
    "        comment = chopped[4]\n",
    "        \n",
    "        update = {'user_id' : user_id,\n",
    "                 'game_id' : game_id,\n",
    "                 'rating' : rating}\n",
    "        \n",
    "        if len(comment) > 2:\n",
    "            update['comment'] = comment\n",
    "            \n",
    "        ratings.update(update, update, upsert=True)\n",
    "    "
   ]
  },
  {
   "cell_type": "code",
   "execution_count": 237,
   "metadata": {
    "collapsed": true
   },
   "outputs": [],
   "source": [
    "def scraping(game_id):\n",
    "    base = 'https://www.boardgamegeek.com/xmlapi2/thing?id='\n",
    "    \n",
    "    game_id = str(game_id)\n",
    "    #i = 0\n",
    "    #start_raw = base + game_id + tail\n",
    "    for i in range(1, 800):\n",
    "        print(i)\n",
    "        tail = '&ratingcomments=1&pagesize=100&page='+str(i)\n",
    "        start_raw = base + game_id + tail\n",
    "        \n",
    "        raw = requests.get(base + game_id + tail)\n",
    "        raw = BeautifulSoup(raw.content, 'html.parser')\n",
    "        \n",
    "        #get_ratings(raw, game_id)\n",
    "        \n",
    "        if i == 1:\n",
    "            get_meta(raw, game_id)\n",
    "        \n",
    "        if get_ratings(raw, game_id) == False:\n",
    "            return False\n",
    "        \n",
    "        time.sleep(2)\n",
    "\n",
    "    "
   ]
  },
  {
   "cell_type": "code",
   "execution_count": 234,
   "metadata": {
    "collapsed": true
   },
   "outputs": [],
   "source": [
    "def central_controller(array):\n",
    "    for item in array:\n",
    "        if scraping(item) == False:\n",
    "            continue"
   ]
  },
  {
   "cell_type": "code",
   "execution_count": 244,
   "metadata": {
    "scrolled": true
   },
   "outputs": [
    {
     "name": "stderr",
     "output_type": "stream",
     "text": [
      "/anaconda/lib/python3.6/site-packages/ipykernel/__main__.py:28: DeprecationWarning: update is deprecated. Use replace_one, update_one or update_many instead.\n"
     ]
    },
    {
     "data": {
      "text/plain": [
       "{'n': 1,\n",
       " 'nModified': 0,\n",
       " 'ok': 1.0,\n",
       " 'updatedExisting': False,\n",
       " 'upserted': ObjectId('59a5bd49b2574fcba96ac894')}"
      ]
     },
     "execution_count": 244,
     "metadata": {},
     "output_type": "execute_result"
    }
   ],
   "source": [
    "# array = [\n",
    "#         8944,\n",
    "#         135648,\n",
    "#         177490,\n",
    "#         180867,\n",
    "#         62\n",
    "#         ]\n",
    "# central_controller(array)\n",
    "#\n",
    "#scraping(62)\n",
    "#txt = str(_0_)\n",
    "#str(_0_.select('yearpublished'))[23:-19]\n",
    "# row = txt.split('\"boardgamecategory\" value=\"')\n",
    "# for i in range(1, len(row)):\n",
    "#     nd = row[i].index('\"')\n",
    "#     print(row[i][0:nd])\n",
    "# txt = str(_0_).split('<comments page=\"1\" totalitems=\"')[1]\n",
    "# nd = txt.index('\"')\n",
    "# txt[0:nd]\n",
    "\n",
    "\n",
    "update = {'user_id' : 'Sunnray',\n",
    "                 'game_id' : '13',\n",
    "                 'rating' : '5'}\n",
    "        \n",
    "        \n",
    "            \n",
    "ratings.update(update, update, upsert=True)"
   ]
  },
  {
   "cell_type": "code",
   "execution_count": 62,
   "metadata": {},
   "outputs": [],
   "source": [
    "test = get_ratings(_0_, 62)"
   ]
  },
  {
   "cell_type": "code",
   "execution_count": 60,
   "metadata": {
    "collapsed": true
   },
   "outputs": [
    {
     "data": {
      "text/plain": [
       "[['Bogge354', 62, '9', ''],\n",
       " ['jasl3', 62, '9', ''],\n",
       " ['lugiber', 62, '9', ''],\n",
       " ['ChrBou2001', 62, '8', ''],\n",
       " ['swellegant', 62, '8', ''],\n",
       " ['Peter Pariseau', 62, '8', ''],\n",
       " ['Guartrainer', 62, '8', ''],\n",
       " ['taffyslim', 62, '8', 'i really like this its good'],\n",
       " ['Furunkulus',\n",
       "  62,\n",
       "  '8',\n",
       "  'I love these old GW board games. This one is pure chaos and is all about who you play with.'],\n",
       " ['fraludico',\n",
       "  62,\n",
       "  '8',\n",
       "  'Only played with solo rules, some house rules necessary for end game.\\r\\nI like theme and components.'],\n",
       " ['statman8', 62, '8', ''],\n",
       " ['wolfisin',\n",
       "  62,\n",
       "  '8',\n",
       "  'This game holds a sentimental spot fro being one of the few strange games I started with. GW really knew how to make em'],\n",
       " ['JediDragon', 62, '8', ''],\n",
       " ['jueja', 62, '8', ''],\n",
       " ['Mensch',\n",
       "  62,\n",
       "  '8',\n",
       "  'A great game produced by GW, it comes with 5 lead Figures, the rules take some time to read over (30 minutes) experienced players can rip a game off in about a hour and a half, newbies may take longer but worth the effort! If you managed to collect some White Dwarfs GW made some additional characters and Traps/Monsters/Treasure cards (I forgot which issues). For a 22 Dollar investment (then) it has replayablity and makes for an enjoyable evening with the friends. I even managed to get the wife interested in this one, but with some people they take it personally when you wack their character with a nasty monster or trap. A must for all those players interested in old GW Board Games'],\n",
       " ['maddwizard', 62, '7.75', ''],\n",
       " ['audpopdeb', 62, '7.5', ''],\n",
       " ['Nogbad', 62, '7', ''],\n",
       " ['magnumopus', 62, '7', ''],\n",
       " ['magnumopus', 62, '7', ''],\n",
       " ['Grohmann', 62, '7', ''],\n",
       " ['Kihon',\n",
       "  62,\n",
       "  '7',\n",
       "  \"A bit of fun with minis I painted so that adds to my enjoyment of it. It's probably flawed but for a quick time passer it does me {better than watching Emmeradale!!! UK joke :-)}\"],\n",
       " ['Sr. Ulé', 62, '7', ''],\n",
       " ['aplegat2', 62, '7', ''],\n",
       " ['Butthead', 62, '7', ''],\n",
       " ['berly24', 62, '7', ''],\n",
       " ['PzVIE',\n",
       "  62,\n",
       "  '7',\n",
       "  'I really liked this game! Back in the days when we played Talisman every weekend!'],\n",
       " ['Adrahil', 62, '7', ''],\n",
       " ['John McKevitt', 62, '7', 'Nice metal figures'],\n",
       " ['Altenbochumer', 62, '7', ''],\n",
       " ['Wolperdinger', 62, '7', 'Alway good for a funny event.'],\n",
       " ['artfuldodge2',\n",
       "  62,\n",
       "  '7',\n",
       "  'Simple fun with wonderful components.  Part of the rating is nostalgia, part is an appreciation for good, cheesy fun. '],\n",
       " ['JrDad', 62, '7', ''],\n",
       " ['randall',\n",
       "  62,\n",
       "  '7',\n",
       "  'A classic GW game. As with a lot of their games, the game itself is not the best, but it makes up in atmosphere and cool bits. Great for the right group.'],\n",
       " ['Gylas', 62, '7', ''],\n",
       " ['bumbispooky', 62, '7', ''],\n",
       " ['MercuryKev',\n",
       "  62,\n",
       "  '7',\n",
       "  \"Egyptologists travel through a pyramid in an Indiana-Jones kind of way to try and find the Mummy's treasure. Unusual 3D board.\"],\n",
       " ['bobby_5150', 62, '7', ''],\n",
       " ['crackedlcd81', 62, '7', 'Sorry- no content provided.'],\n",
       " ['Speedwaysupporter', 62, '7', ''],\n",
       " ['SaintsnSoldiers',\n",
       "  62,\n",
       "  '7',\n",
       "  'This is a pretty fun game, dont know if its on the remake list by flights of fantasy, anyways lts trade.'],\n",
       " ['dragonewtking',\n",
       "  62,\n",
       "  '7',\n",
       "  'This game has great theme, but is hampered by its movement system (although thematically, it does a good job of simulating being lost in the maze of the pyramid..); games can run long.'],\n",
       " ['sarafettle', 62, '7', ''],\n",
       " ['Bryan Arroyo', 62, '7', ''],\n",
       " ['sic!',\n",
       "  62,\n",
       "  '7',\n",
       "  'Hm, difficult to rate. Its nice made, miniatures, 3D gameboard, tasliman flair and some new rules in gameplay, but its also difficult to play without nearly killing each other. But with the right set of players its fun.'],\n",
       " ['the czar',\n",
       "  62,\n",
       "  '7',\n",
       "  'not the best game games workshop put out, but it still is cooler than most games put out today.3-D boards are always cool, plus you get to move other players characters, and they hate that!'],\n",
       " ['gamey',\n",
       "  62,\n",
       "  '7',\n",
       "  'Great atmosphere and bits: mummy, cards, 3-D pyramid are cool! Complicated to play, and endings sometimes drawn out. Have played only rarely, and usually with just 2.'],\n",
       " ['Hopalong', 62, '7', 'Classic GW game that is a kind of 3-D Talisman.'],\n",
       " ['scoopblue', 62, '7', ''],\n",
       " ['Rodnarok', 62, '7', ''],\n",
       " ['liampurcell', 62, '7', ''],\n",
       " ['Grayhawk',\n",
       "  62,\n",
       "  '7',\n",
       "  'Lots of fun, once you understand the rules.  The rules are written obtusely, but teh game itself is a hoot.'],\n",
       " ['StephenAvery', 62, '6.75', ''],\n",
       " ['mi_de',\n",
       "  62,\n",
       "  '6.75',\n",
       "  'This about finishes my Games Workshop collection.  Have played solo a couple times, and multi-player a couple of times.  Not an award-winner by any means, but colorful and entertaining in a silly kind of way.  Needs to be played quickly with either eerie or exciting music in the background, and an imposing voice to read the encounter descriptions.  Great to bring out for new players; the 3D pyramid is pretty cool, and the hieroglyphics on the support tower really are funny to loook at!  Nice to have in the collection.'],\n",
       " ['Lebut', 62, '6.5', ''],\n",
       " ['valdgir', 62, '6.5', ''],\n",
       " ['Prionus', 62, '6.5', ''],\n",
       " ['JVKhoury', 62, '6.5', ''],\n",
       " ['Rattone', 62, '6.5', ''],\n",
       " ['BWSharp', 62, '6.5', ''],\n",
       " ['Turo8', 62, '6.1', ''],\n",
       " ['Condompete', 62, '6', ''],\n",
       " ['davrodbois', 62, '6', ''],\n",
       " ['Siirozze074', 62, '6', ''],\n",
       " ['drstrnge', 62, '6', ''],\n",
       " ['andyafricanus',\n",
       "  62,\n",
       "  '6',\n",
       "  \"Always feel this needs the claustrophobia feel to enhance the vibe. The game was on the back of the successful Fury of Dracula game released by GW and Stephen Hand.. The third game earmarked was by other GW staff and was to be a Frankenstein theme where you collect body parts.  There was one game where the paranoia of the Mummy chasing me gave it a bit of tense and excitement but otherwise it's just a collectors item to me.\"],\n",
       " ['Ronno', 62, '6', ''],\n",
       " ['shirtman',\n",
       "  62,\n",
       "  '6',\n",
       "  \"Strategic use of your cards to either screw your opponent's plans or keep them for your own use is a key tactic for winning the game. Great theme and nice components for a lighter racing style game. \"],\n",
       " ['Danceny', 62, '6', ''],\n",
       " ['Radetzkymarsch', 62, '6', ''],\n",
       " ['Gotcha', 62, '6', ''],\n",
       " ['intomieli', 62, '6', ''],\n",
       " ['alek2',\n",
       "  62,\n",
       "  '6',\n",
       "  'it captures theme of exploring piramide full of traps and treasures quite nicely'],\n",
       " ['eldamahj', 62, '6', ''],\n",
       " ['MadJackMcD', 62, '6', ''],\n",
       " ['HaiKulture', 62, '6', ''],\n",
       " ['n_and', 62, '6', ''],\n",
       " ['SteveMcG', 62, '6', ''],\n",
       " ['lordshoju', 62, '6', ''],\n",
       " ['szpieg', 62, '6', ''],\n",
       " ['streaky2007', 62, '6', ''],\n",
       " ['dentarek', 62, '6', ''],\n",
       " ['Xadocs', 62, '6', ''],\n",
       " ['rogerthecabinboy', 62, '6', ''],\n",
       " ['kober', 62, '6', ''],\n",
       " ['mrleechyboy', 62, '6', ''],\n",
       " ['gocho7', 62, '6', ''],\n",
       " ['landru',\n",
       "  62,\n",
       "  '6',\n",
       "  'What you would expect from Stephen Jackson of Games Workshop from the period. Still play it once in awhile. Like the components and the 3-D board.'],\n",
       " ['Cabbage', 62, '6', ''],\n",
       " ['alzhiel', 62, '6', 'v'],\n",
       " ['syphramis', 62, '6', ''],\n",
       " ['RossBowrage', 62, '6', ''],\n",
       " ['Chromaline', 62, '6', ''],\n",
       " ['GuppyGamer', 62, '6', ''],\n",
       " ['olric', 62, '6', ''],\n",
       " ['popotam', 62, '6', ''],\n",
       " ['Tonyfr', 62, '6', ''],\n",
       " ['Angra',\n",
       "  62,\n",
       "  '6',\n",
       "  'A nice game that may become extremely noious if played with sniveller-type gamers. If played with the right company is nice. Better if 3 or 4 players.'],\n",
       " ['duvalmont', 62, '6', \"Owned it and played back in 90's\"],\n",
       " ['GameDude', 62, '6', '']]"
      ]
     },
     "execution_count": 60,
     "metadata": {},
     "output_type": "execute_result"
    }
   ],
   "source": [
    "test"
   ]
  },
  {
   "cell_type": "code",
   "execution_count": 27,
   "metadata": {
    "scrolled": true
   },
   "outputs": [
    {
     "name": "stdout",
     "output_type": "stream",
     "text": [
      "0 8\n",
      "1  username=\n",
      "2 Guartrainer\n",
      "3  value=\n",
      "4 \n",
      "5 ></comment>\n",
      "<comment \n"
     ]
    }
   ],
   "source": [
    "# for i in range(1,30):\n",
    "#     print(i, ratings_raw[i])\n",
    "subbed = ratings_raw[7].split('\"')\n",
    "\n",
    "# idx1 = ratings_raw[8].index('\"')+1\n",
    "# rating = ratings_raw[0:idx1]\n",
    "for i in range(len(subbed)):\n",
    "    print(i, subbed[i])"
   ]
  },
  {
   "cell_type": "code",
   "execution_count": 26,
   "metadata": {},
   "outputs": [
    {
     "data": {
      "text/plain": [
       "'8\" username=\"taffyslim\" value=\"i really like this its good\"></comment>\\n<comment '"
      ]
     },
     "execution_count": 26,
     "metadata": {},
     "output_type": "execute_result"
    }
   ],
   "source": [
    "ratings_raw[8]"
   ]
  },
  {
   "cell_type": "code",
   "execution_count": 46,
   "metadata": {},
   "outputs": [
    {
     "data": {
      "text/plain": [
       "0"
      ]
     },
     "execution_count": 46,
     "metadata": {},
     "output_type": "execute_result"
    }
   ],
   "source": [
    "len(test)"
   ]
  },
  {
   "cell_type": "code",
   "execution_count": 40,
   "metadata": {
    "collapsed": true
   },
   "outputs": [
    {
     "data": {
      "text/plain": [
       "['<?xml version=\"1.0\" encoding=\"utf-8\"?><items termsofuse=\"http://boardgamegeek.com/xmlapi/termsofuse\"><item id=\"62\" type=\"boardgame\">\\n<thumbnail>https://cf.geekdo-images.com/images/pic146706_t.jpg</thumbnail>\\n<image>https://cf.geekdo-images.com/images/pic146706.jpg</image>\\n<name sortindex=\"1\" type=\"primary\" value=\"Curse of the Mummy\\'s Tomb\"></name>\\n<name sortindex=\"1\" type=\"alternate\" value=\"Przeklenstwo Mumii\"></name>\\n<description>Players are a group of explorers in a pyramid attempting to learn forbidden knowledge and find treasure.&amp;#10;&amp;#10;However the pyramid has many traps and tricks, and lurking about is the Mummy who will not rest until all are dead.  Comes with a 3D three level gameboard that players have to ascend and metal miniatures.&amp;#10;&amp;#10;Expanded by&amp;#10;Curse of the Mummy\\'s Tomb: In Search of Eternity&amp;#10;&amp;#10;&amp;#10;Flavour text from the box:&amp;#10;&amp;#10;&amp;quot;When the moon conjoins with the planet of the God Anubis, the elixir of eternal life will flow.  Whoever partakes of the sacred waters shall stay youthful for one hundred years.  Immortality is the reward for he who overcomes the dead that walk.&amp;quot;&amp;#10;&amp;#10;</description>\\n<yearpublished value=\"1988\"></yearpublished>\\n<minplayers value=\"1\"></minplayers>\\n<maxplayers value=\"4\"></maxplayers>\\n<poll name=\"suggested_numplayers\" title=\"User Suggested Number of Players\" totalvotes=\"1\">\\n<results numplayers=\"1\">\\n<result numvotes=\"0\" value=\"Best\"></result>\\n<result numvotes=\"0\" value=\"Recommended\"></result>\\n<result numvotes=\"1\" value=\"Not Recommended\"></result>\\n</results>\\n<results numplayers=\"2\">\\n<result numvotes=\"0\" value=\"Best\"></result>\\n<result numvotes=\"0\" value=\"Recommended\"></result>\\n<result numvotes=\"1\" value=\"Not Recommended\"></result>\\n</results>\\n<results numplayers=\"3\">\\n<result numvotes=\"1\" value=\"Best\"></result>\\n<result numvotes=\"0\" value=\"Recommended\"></result>\\n<result numvotes=\"0\" value=\"Not Recommended\"></result>\\n</results>\\n<results numplayers=\"4\">\\n<result numvotes=\"1\" value=\"Best\"></result>\\n<result numvotes=\"0\" value=\"Recommended\"></result>\\n<result numvotes=\"0\" value=\"Not Recommended\"></result>\\n</results>\\n<results numplayers=\"4+\">\\n<result numvotes=\"0\" value=\"Best\"></result>\\n<result numvotes=\"0\" value=\"Recommended\"></result>\\n<result numvotes=\"1\" value=\"Not Recommended\"></result>\\n</results>\\n</poll>\\n<playingtime value=\"120\"></playingtime>\\n<minplaytime value=\"120\"></minplaytime>\\n<maxplaytime value=\"120\"></maxplaytime>\\n<minage value=\"12\"></minage>\\n<poll name=\"suggested_playerage\" title=\"User Suggested Player Age\" totalvotes=\"0\">\\n</poll>\\n<poll name=\"language_dependence\" title=\"Language Dependence\" totalvotes=\"0\">\\n<results>\\n<result level=\"1\" numvotes=\"0\" value=\"No necessary in-game text\"></result>\\n<result level=\"2\" numvotes=\"0\" value=\"Some necessary text - easily memorized or small crib sheet\"></result>\\n<result level=\"3\" numvotes=\"0\" value=\"Moderate in-game text - needs crib sheet or paste ups\"></result>\\n<result level=\"4\" numvotes=\"0\" value=\"Extensive use of text - massive conversion needed to be playable\"></result>\\n<result level=\"5\" numvotes=\"0\" value=\"Unplayable in another language\"></result>\\n</results>\\n</poll>\\n<link id=\"1022\" type=\"boardgamecategory\" value=\"Adventure\"/>\\n<link id=\"1050\" type=\"boardgamecategory\" value=\"Ancient\"/>\\n<link id=\"1024\" type=\"boardgamecategory\" value=\"Horror\"/>\\n<link id=\"2689\" type=\"boardgamemechanic\" value=\"Action / Movement Programming\"/>\\n<link id=\"5607\" type=\"boardgamefamily\" value=\"3D Games\"/>\\n<link id=\"6471\" type=\"boardgamefamily\" value=\"Country: Egypt\"/>\\n<link id=\"165833\" type=\"boardgameexpansion\" value=\"Curse of the Mummy\\'s Tomb: In Search of Eternity\"/>\\n<link id=\"51\" type=\"boardgamedesigner\" value=\"Stephen Hand\"/>\\n<link id=\"9163\" type=\"boardgameartist\" value=\"Dave Andrews\"/>\\n<link id=\"979\" type=\"boardgameartist\" value=\"Gary Chalk\"/>\\n<link id=\"9170\" type=\"boardgameartist\" value=\"Trish Morrison\"/>\\n<link id=\"9379\" type=\"boardgameartist\" value=\"Aly Morrison\"/>\\n<link id=\"15479\" type=\"boardgameartist\" value=\"James Warhola\"/>\\n<link id=\"26\" type=\"boardgamepublisher\" value=\"Games Workshop Ltd.\"/>\\n<link id=\"3805\" type=\"boardgamepublisher\" value=\"Sfera\"/>\\n<comments page=\"1\" totalitems=\"300\">\\n<comment ',\n",
       " '9\" username=\"Bogge354\" value=\"\"></comment>\\n<comment ',\n",
       " '9\" username=\"jasl3\" value=\"\"></comment>\\n<comment ',\n",
       " '9\" username=\"lugiber\" value=\"\"></comment>\\n<comment ',\n",
       " '8\" username=\"ChrBou2001\" value=\"\"></comment>\\n<comment ',\n",
       " '8\" username=\"swellegant\" value=\"\"></comment>\\n<comment ',\n",
       " '8\" username=\"Peter Pariseau\" value=\"\"></comment>\\n<comment ',\n",
       " '8\" username=\"Guartrainer\" value=\"\"></comment>\\n<comment ',\n",
       " '8\" username=\"taffyslim\" value=\"i really like this its good\"></comment>\\n<comment ',\n",
       " '8\" username=\"Furunkulus\" value=\"I love these old GW board games. This one is pure chaos and is all about who you play with.\"></comment>\\n<comment ',\n",
       " '8\" username=\"fraludico\" value=\"Only played with solo rules, some house rules necessary for end game.\\r\\nI like theme and components.\"></comment>\\n<comment ',\n",
       " '8\" username=\"statman8\" value=\"\"></comment>\\n<comment ',\n",
       " '8\" username=\"wolfisin\" value=\"This game holds a sentimental spot fro being one of the few strange games I started with. GW really knew how to make em\"></comment>\\n<comment ',\n",
       " '8\" username=\"JediDragon\" value=\"\"></comment>\\n<comment ',\n",
       " '8\" username=\"jueja\" value=\"\"></comment>\\n<comment ',\n",
       " '8\" username=\"Mensch\" value=\"A great game produced by GW, it comes with 5 lead Figures, the rules take some time to read over (30 minutes) experienced players can rip a game off in about a hour and a half, newbies may take longer but worth the effort! If you managed to collect some White Dwarfs GW made some additional characters and Traps/Monsters/Treasure cards (I forgot which issues). For a 22 Dollar investment (then) it has replayablity and makes for an enjoyable evening with the friends. I even managed to get the wife interested in this one, but with some people they take it personally when you wack their character with a nasty monster or trap. A must for all those players interested in old GW Board Games\"></comment>\\n<comment ',\n",
       " '7.75\" username=\"maddwizard\" value=\"\"></comment>\\n<comment ',\n",
       " '7.5\" username=\"audpopdeb\" value=\"\"></comment>\\n<comment ',\n",
       " '7\" username=\"Nogbad\" value=\"\"></comment>\\n<comment ',\n",
       " '7\" username=\"magnumopus\" value=\"\"></comment>\\n<comment ',\n",
       " '7\" username=\"magnumopus\" value=\"\"></comment>\\n<comment ',\n",
       " '7\" username=\"Grohmann\" value=\"\"></comment>\\n<comment ',\n",
       " '7\" username=\"Kihon\" value=\"A bit of fun with minis I painted so that adds to my enjoyment of it. It\\'s probably flawed but for a quick time passer it does me {better than watching Emmeradale!!! UK joke :-)}\"></comment>\\n<comment ',\n",
       " '7\" username=\"Sr. Ulé\" value=\"\"></comment>\\n<comment ',\n",
       " '7\" username=\"aplegat2\" value=\"\"></comment>\\n<comment ',\n",
       " '7\" username=\"Butthead\" value=\"\"></comment>\\n<comment ',\n",
       " '7\" username=\"berly24\" value=\"\"></comment>\\n<comment ',\n",
       " '7\" username=\"PzVIE\" value=\"I really liked this game! Back in the days when we played Talisman every weekend!\"></comment>\\n<comment ',\n",
       " '7\" username=\"Adrahil\" value=\"\"></comment>\\n<comment ',\n",
       " '7\" username=\"John McKevitt\" value=\"Nice metal figures\"></comment>\\n<comment ',\n",
       " '7\" username=\"Altenbochumer\" value=\"\"></comment>\\n<comment ',\n",
       " '7\" username=\"Wolperdinger\" value=\"Alway good for a funny event.\"></comment>\\n<comment ',\n",
       " '7\" username=\"artfuldodge2\" value=\"Simple fun with wonderful components.  Part of the rating is nostalgia, part is an appreciation for good, cheesy fun. \"></comment>\\n<comment ',\n",
       " '7\" username=\"JrDad\" value=\"\"></comment>\\n<comment ',\n",
       " '7\" username=\"randall\" value=\"A classic GW game. As with a lot of their games, the game itself is not the best, but it makes up in atmosphere and cool bits. Great for the right group.\"></comment>\\n<comment ',\n",
       " '7\" username=\"Gylas\" value=\"\"></comment>\\n<comment ',\n",
       " '7\" username=\"bumbispooky\" value=\"\"></comment>\\n<comment ',\n",
       " '7\" username=\"MercuryKev\" value=\"Egyptologists travel through a pyramid in an Indiana-Jones kind of way to try and find the Mummy\\'s treasure. Unusual 3D board.\"></comment>\\n<comment ',\n",
       " '7\" username=\"bobby_5150\" value=\"\"></comment>\\n<comment ',\n",
       " '7\" username=\"crackedlcd81\" value=\"Sorry- no content provided.\"></comment>\\n<comment ',\n",
       " '7\" username=\"Speedwaysupporter\" value=\"\"></comment>\\n<comment ',\n",
       " '7\" username=\"SaintsnSoldiers\" value=\"This is a pretty fun game, dont know if its on the remake list by flights of fantasy, anyways lts trade.\"></comment>\\n<comment ',\n",
       " '7\" username=\"dragonewtking\" value=\"This game has great theme, but is hampered by its movement system (although thematically, it does a good job of simulating being lost in the maze of the pyramid..); games can run long.\"></comment>\\n<comment ',\n",
       " '7\" username=\"sarafettle\" value=\"\"></comment>\\n<comment ',\n",
       " '7\" username=\"Bryan Arroyo\" value=\"\"></comment>\\n<comment ',\n",
       " '7\" username=\"sic!\" value=\"Hm, difficult to rate. Its nice made, miniatures, 3D gameboard, tasliman flair and some new rules in gameplay, but its also difficult to play without nearly killing each other. But with the right set of players its fun.\"></comment>\\n<comment ',\n",
       " '7\" username=\"the czar\" value=\"not the best game games workshop put out, but it still is cooler than most games put out today.3-D boards are always cool, plus you get to move other players characters, and they hate that!\"></comment>\\n<comment ',\n",
       " '7\" username=\"gamey\" value=\"Great atmosphere and bits: mummy, cards, 3-D pyramid are cool! Complicated to play, and endings sometimes drawn out. Have played only rarely, and usually with just 2.\"></comment>\\n<comment ',\n",
       " '7\" username=\"Hopalong\" value=\"Classic GW game that is a kind of 3-D Talisman.\"></comment>\\n<comment ',\n",
       " '7\" username=\"scoopblue\" value=\"\"></comment>\\n<comment ',\n",
       " '7\" username=\"Rodnarok\" value=\"\"></comment>\\n<comment ',\n",
       " '7\" username=\"liampurcell\" value=\"\"></comment>\\n<comment ',\n",
       " '7\" username=\"Grayhawk\" value=\"Lots of fun, once you understand the rules.  The rules are written obtusely, but teh game itself is a hoot.\"></comment>\\n<comment ',\n",
       " '6.75\" username=\"StephenAvery\" value=\"\"></comment>\\n<comment ',\n",
       " '6.75\" username=\"mi_de\" value=\"This about finishes my Games Workshop collection.  Have played solo a couple times, and multi-player a couple of times.  Not an award-winner by any means, but colorful and entertaining in a silly kind of way.  Needs to be played quickly with either eerie or exciting music in the background, and an imposing voice to read the encounter descriptions.  Great to bring out for new players; the 3D pyramid is pretty cool, and the hieroglyphics on the support tower really are funny to loook at!  Nice to have in the collection.\"></comment>\\n<comment ',\n",
       " '6.5\" username=\"Lebut\" value=\"\"></comment>\\n<comment ',\n",
       " '6.5\" username=\"valdgir\" value=\"\"></comment>\\n<comment ',\n",
       " '6.5\" username=\"Prionus\" value=\"\"></comment>\\n<comment ',\n",
       " '6.5\" username=\"JVKhoury\" value=\"\"></comment>\\n<comment ',\n",
       " '6.5\" username=\"Rattone\" value=\"\"></comment>\\n<comment ',\n",
       " '6.5\" username=\"BWSharp\" value=\"\"></comment>\\n<comment ',\n",
       " '6.1\" username=\"Turo8\" value=\"\"></comment>\\n<comment ',\n",
       " '6\" username=\"Condompete\" value=\"\"></comment>\\n<comment ',\n",
       " '6\" username=\"davrodbois\" value=\"\"></comment>\\n<comment ',\n",
       " '6\" username=\"Siirozze074\" value=\"\"></comment>\\n<comment ',\n",
       " '6\" username=\"drstrnge\" value=\"\"></comment>\\n<comment ',\n",
       " '6\" username=\"andyafricanus\" value=\"Always feel this needs the claustrophobia feel to enhance the vibe. The game was on the back of the successful Fury of Dracula game released by GW and Stephen Hand.. The third game earmarked was by other GW staff and was to be a Frankenstein theme where you collect body parts.  There was one game where the paranoia of the Mummy chasing me gave it a bit of tense and excitement but otherwise it\\'s just a collectors item to me.\"></comment>\\n<comment ',\n",
       " '6\" username=\"Ronno\" value=\"\"></comment>\\n<comment ',\n",
       " '6\" username=\"shirtman\" value=\"Strategic use of your cards to either screw your opponent\\'s plans or keep them for your own use is a key tactic for winning the game. Great theme and nice components for a lighter racing style game. \"></comment>\\n<comment ',\n",
       " '6\" username=\"Danceny\" value=\"\"></comment>\\n<comment ',\n",
       " '6\" username=\"Radetzkymarsch\" value=\"\"></comment>\\n<comment ',\n",
       " '6\" username=\"Gotcha\" value=\"\"></comment>\\n<comment ',\n",
       " '6\" username=\"intomieli\" value=\"\"></comment>\\n<comment ',\n",
       " '6\" username=\"alek2\" value=\"it captures theme of exploring piramide full of traps and treasures quite nicely\"></comment>\\n<comment ',\n",
       " '6\" username=\"eldamahj\" value=\"\"></comment>\\n<comment ',\n",
       " '6\" username=\"MadJackMcD\" value=\"\"></comment>\\n<comment ',\n",
       " '6\" username=\"HaiKulture\" value=\"\"></comment>\\n<comment ',\n",
       " '6\" username=\"n_and\" value=\"\"></comment>\\n<comment ',\n",
       " '6\" username=\"SteveMcG\" value=\"\"></comment>\\n<comment ',\n",
       " '6\" username=\"lordshoju\" value=\"\"></comment>\\n<comment ',\n",
       " '6\" username=\"szpieg\" value=\"\"></comment>\\n<comment ',\n",
       " '6\" username=\"streaky2007\" value=\"\"></comment>\\n<comment ',\n",
       " '6\" username=\"dentarek\" value=\"\"></comment>\\n<comment ',\n",
       " '6\" username=\"Xadocs\" value=\"\"></comment>\\n<comment ',\n",
       " '6\" username=\"rogerthecabinboy\" value=\"\"></comment>\\n<comment ',\n",
       " '6\" username=\"kober\" value=\"\"></comment>\\n<comment ',\n",
       " '6\" username=\"mrleechyboy\" value=\"\"></comment>\\n<comment ',\n",
       " '6\" username=\"gocho7\" value=\"\"></comment>\\n<comment ',\n",
       " '6\" username=\"landru\" value=\"What you would expect from Stephen Jackson of Games Workshop from the period. Still play it once in awhile. Like the components and the 3-D board.\"></comment>\\n<comment ',\n",
       " '6\" username=\"Cabbage\" value=\"\"></comment>\\n<comment ',\n",
       " '6\" username=\"alzhiel\" value=\"v\"></comment>\\n<comment ',\n",
       " '6\" username=\"syphramis\" value=\"\"></comment>\\n<comment ',\n",
       " '6\" username=\"RossBowrage\" value=\"\"></comment>\\n<comment ',\n",
       " '6\" username=\"Chromaline\" value=\"\"></comment>\\n<comment ',\n",
       " '6\" username=\"GuppyGamer\" value=\"\"></comment>\\n<comment ',\n",
       " '6\" username=\"olric\" value=\"\"></comment>\\n<comment ',\n",
       " '6\" username=\"popotam\" value=\"\"></comment>\\n<comment ',\n",
       " '6\" username=\"Tonyfr\" value=\"\"></comment>\\n<comment ',\n",
       " '6\" username=\"Angra\" value=\"A nice game that may become extremely noious if played with sniveller-type gamers. If played with the right company is nice. Better if 3 or 4 players.\"></comment>\\n<comment ',\n",
       " '6\" username=\"duvalmont\" value=\"Owned it and played back in 90\\'s\"></comment>\\n<comment ',\n",
       " '6\" username=\"GameDude\" value=\"\"></comment>\\n</comments>\\n</item>\\n</items>']"
      ]
     },
     "execution_count": 40,
     "metadata": {},
     "output_type": "execute_result"
    }
   ],
   "source": [
    "ratings_raw"
   ]
  },
  {
   "cell_type": "code",
   "execution_count": 64,
   "metadata": {},
   "outputs": [
    {
     "data": {
      "text/plain": [
       "0"
      ]
     },
     "execution_count": 64,
     "metadata": {},
     "output_type": "execute_result"
    }
   ],
   "source": [
    "9//10"
   ]
  },
  {
   "cell_type": "code",
   "execution_count": null,
   "metadata": {
    "collapsed": true
   },
   "outputs": [],
   "source": []
  }
 ],
 "metadata": {
  "kernelspec": {
   "display_name": "Python [default]",
   "language": "python",
   "name": "python3"
  },
  "language_info": {
   "codemirror_mode": {
    "name": "ipython",
    "version": 3
   },
   "file_extension": ".py",
   "mimetype": "text/x-python",
   "name": "python",
   "nbconvert_exporter": "python",
   "pygments_lexer": "ipython3",
   "version": "3.6.1"
  }
 },
 "nbformat": 4,
 "nbformat_minor": 2
}
